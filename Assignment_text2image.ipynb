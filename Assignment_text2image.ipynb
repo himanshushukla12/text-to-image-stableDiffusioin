{
  "nbformat": 4,
  "nbformat_minor": 0,
  "metadata": {
    "colab": {
      "private_outputs": true,
      "provenance": []
    },
    "kernelspec": {
      "name": "python3",
      "display_name": "Python 3"
    },
    "language_info": {
      "name": "python"
    }
  },
  "cells": [
    {
      "cell_type": "markdown",
      "source": [
        "# By Himanshu Shukla\n",
        "#### Please feel free to ask for anything, if you need some different integrations, i used pure libraries here\n",
        "#### email himanshushukla.shukla3@gmail.com\n",
        "#### Environment: Windows 10, python 3.11.5, PyTorch version: 2.2.1+cu121 | CUDA version: 12.1"
      ],
      "metadata": {
        "id": "z29arRfLf2ky"
      }
    },
    {
      "cell_type": "code",
      "execution_count": null,
      "metadata": {
        "id": "Fh-DG1bbW9dp"
      },
      "outputs": [],
      "source": [
        "!pip install diffusers --upgrade > log.txt"
      ]
    },
    {
      "cell_type": "markdown",
      "source": [
        "## In addition make sure to install transformers, safetensors, accelerate as well as the invisible watermark:"
      ],
      "metadata": {
        "id": "_Z-dtbVhXEFm"
      }
    },
    {
      "cell_type": "code",
      "source": [
        "!pip install invisible_watermark transformers accelerate safetensors > log.txt\n"
      ],
      "metadata": {
        "id": "jiJGDD3aXBpL"
      },
      "execution_count": null,
      "outputs": []
    },
    {
      "cell_type": "markdown",
      "source": [
        "# Model from hugging face"
      ],
      "metadata": {
        "id": "rb4sl6LzXIsX"
      }
    },
    {
      "cell_type": "code",
      "source": [
        "from diffusers import DiffusionPipeline\n",
        "import torch\n",
        "\n",
        "# load both base & refiner\n",
        "base = DiffusionPipeline.from_pretrained(\n",
        "    \"stabilityai/stable-diffusion-xl-base-1.0\", torch_dtype=torch.float16, variant=\"fp16\", use_safetensors=True\n",
        ")\n",
        "base.to(\"cuda\")\n",
        "refiner = DiffusionPipeline.from_pretrained(\n",
        "    \"stabilityai/stable-diffusion-xl-refiner-1.0\",\n",
        "    text_encoder_2=base.text_encoder_2,\n",
        "    vae=base.vae,\n",
        "    torch_dtype=torch.float16,\n",
        "    use_safetensors=True,\n",
        "    variant=\"fp16\",\n",
        ")\n",
        "refiner.to(\"cuda\")\n",
        "\n"
      ],
      "metadata": {
        "id": "7-uHK-AsXGq1"
      },
      "execution_count": null,
      "outputs": []
    },
    {
      "cell_type": "markdown",
      "source": [
        "# Define how many steps and what % of steps to be run on each experts (80/20) here"
      ],
      "metadata": {
        "id": "p7MfXO4T037Q"
      }
    },
    {
      "cell_type": "code",
      "source": [
        "n_steps = 1000\n",
        "high_noise_frac = 0.8"
      ],
      "metadata": {
        "id": "j0V3tx8NiPL_"
      },
      "execution_count": null,
      "outputs": []
    },
    {
      "cell_type": "markdown",
      "source": [
        "# run both experts"
      ],
      "metadata": {
        "id": "ia8c5rW207OY"
      }
    },
    {
      "cell_type": "code",
      "source": [
        "# providing Prompt\n",
        "\n",
        "prompt = input(\" Enter prompt \")\n",
        "\n",
        "image = base(\n",
        "    prompt=prompt,\n",
        "    num_inference_steps=n_steps,\n",
        "    denoising_end=high_noise_frac,\n",
        "    output_type=\"latent\",\n",
        ").images\n",
        "image = refiner(\n",
        "    prompt=prompt,\n",
        "    num_inference_steps=n_steps,\n",
        "    denoising_start=high_noise_frac,\n",
        "    image=image,\n",
        ").images[0]\n",
        "\n",
        "# Showing Image\n",
        "image"
      ],
      "metadata": {
        "id": "GweKSW8siRJI"
      },
      "execution_count": null,
      "outputs": []
    },
    {
      "cell_type": "code",
      "source": [
        "image.size"
      ],
      "metadata": {
        "id": "580r5d8vC9G9"
      },
      "execution_count": null,
      "outputs": []
    },
    {
      "cell_type": "markdown",
      "source": [
        "# Saving the image locally, then We'll give to GAN for scaling the resolution"
      ],
      "metadata": {
        "id": "vweeSfZi1AwQ"
      }
    },
    {
      "cell_type": "code",
      "source": [
        "image.save(\"generated_image.png\")"
      ],
      "metadata": {
        "id": "WhLKX0LeXcqX"
      },
      "execution_count": null,
      "outputs": []
    },
    {
      "cell_type": "code",
      "source": [
        "!pip install pillow > log.txt\n",
        "!pip install -qq super-image > log.txt\n"
      ],
      "metadata": {
        "id": "muMGPjiI-9pL"
      },
      "execution_count": null,
      "outputs": []
    },
    {
      "cell_type": "code",
      "source": [
        "from super_image import EdsrModel, ImageLoader\n",
        "from PIL import Image\n",
        "import requests\n",
        "from IPython.display import display\n",
        "\n",
        "# Load the model\n",
        "model = EdsrModel.from_pretrained('eugenesiow/edsr-base', scale=2)\n",
        "\n",
        "# Load the image using PIL and then process it using ImageLoader\n",
        "image_path = \"generated_image.png\"\n",
        "image = Image.open(image_path)\n",
        "inputs = ImageLoader.load_image(image)\n",
        "\n",
        "# Generate predictions\n",
        "preds = model(inputs)\n",
        "\n",
        "# Save the upscaled image and comparison\n",
        "ImageLoader.save_image(preds, './scaled_2x.png')\n",
        "ImageLoader.save_compare(inputs, preds, './scaled_2x_compare.png')\n",
        "\n"
      ],
      "metadata": {
        "id": "kiabuyhUU-Vg"
      },
      "execution_count": null,
      "outputs": []
    },
    {
      "cell_type": "code",
      "source": [
        "scaled_image = Image.open(\"./scaled_2x.png\")\n",
        "\n"
      ],
      "metadata": {
        "id": "nGGIJpG7VW8o"
      },
      "execution_count": null,
      "outputs": []
    },
    {
      "cell_type": "code",
      "source": [
        "display(scaled_image)"
      ],
      "metadata": {
        "id": "m3clCkBtdtWj"
      },
      "execution_count": null,
      "outputs": []
    },
    {
      "cell_type": "code",
      "source": [
        "# Size of image in pixels\n",
        "scaled_image.size\n"
      ],
      "metadata": {
        "id": "jmEWYor4WkWI"
      },
      "execution_count": null,
      "outputs": []
    },
    {
      "cell_type": "code",
      "source": [],
      "metadata": {
        "id": "L3RDTC1KchcS"
      },
      "execution_count": null,
      "outputs": []
    }
  ]
}